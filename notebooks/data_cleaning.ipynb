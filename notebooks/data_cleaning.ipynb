{
 "cells": [
  {
   "cell_type": "code",
   "execution_count": 8,
   "id": "c9b19018-26ac-418b-a2c5-709bc4e8bae2",
   "metadata": {},
   "outputs": [],
   "source": [
    "BOOKS_PATH = r'..\\data\\raw\\books.csv'\n",
    "RATING_PATH = r'..\\data\\raw\\ratings.csv'\n",
    "USERS_PATH = r'..\\data\\raw\\users.csv'\n",
    "\n",
    "PROCESSED_BOOKS_OUTPUT = r'..\\data\\processed\\cleaned_books.csv'\n",
    "PROCESSED_Rating_OUTPUT = r'..\\data\\processed\\cleaned_Rating.csv'\n",
    "PROCESSED_Users_OUTPUT = r'..\\data\\processed\\cleaned_users.csv'"
   ]
  },
  {
   "cell_type": "markdown",
   "id": "5c245ca3-f761-4526-aa4e-945b55b81e50",
   "metadata": {},
   "source": [
    "Importing"
   ]
  },
  {
   "cell_type": "code",
   "execution_count": 10,
   "id": "6267fecf-ae89-45d9-b098-bcd4f4c9d120",
   "metadata": {},
   "outputs": [],
   "source": [
    "import pandas as pd\n",
    "import matplotlib.pyplot as plt\n",
    "import seaborn as sns"
   ]
  },
  {
   "cell_type": "code",
   "execution_count": 12,
   "id": "b1fa93b2-96de-492f-8d77-1d827320d9d0",
   "metadata": {},
   "outputs": [
    {
     "name": "stderr",
     "output_type": "stream",
     "text": [
      "C:\\Users\\gattu\\AppData\\Local\\Temp\\ipykernel_18012\\4087042005.py:1: DtypeWarning: Columns (3) have mixed types. Specify dtype option on import or set low_memory=False.\n",
      "  books_df = pd.read_csv(BOOKS_PATH, sep=';',encoding='latin1', on_bad_lines='skip')\n"
     ]
    }
   ],
   "source": [
    "books_df = pd.read_csv(BOOKS_PATH, sep=';',encoding='latin1', on_bad_lines='skip')\n",
    "rating_df = pd.read_csv(RATING_PATH, sep=';',encoding='latin1', on_bad_lines='skip')\n",
    "users_df = pd.read_csv(USERS_PATH, sep=';',encoding='latin1', on_bad_lines='skip')"
   ]
  },
  {
   "cell_type": "code",
   "execution_count": 13,
   "id": "03d8f6b4-d2da-42cc-9c2b-5e9f97468975",
   "metadata": {},
   "outputs": [
    {
     "data": {
      "text/html": [
       "<div>\n",
       "<style scoped>\n",
       "    .dataframe tbody tr th:only-of-type {\n",
       "        vertical-align: middle;\n",
       "    }\n",
       "\n",
       "    .dataframe tbody tr th {\n",
       "        vertical-align: top;\n",
       "    }\n",
       "\n",
       "    .dataframe thead th {\n",
       "        text-align: right;\n",
       "    }\n",
       "</style>\n",
       "<table border=\"1\" class=\"dataframe\">\n",
       "  <thead>\n",
       "    <tr style=\"text-align: right;\">\n",
       "      <th></th>\n",
       "      <th>ISBN</th>\n",
       "      <th>Book-Title</th>\n",
       "      <th>Book-Author</th>\n",
       "      <th>Year-Of-Publication</th>\n",
       "      <th>Publisher</th>\n",
       "      <th>Image-URL-S</th>\n",
       "      <th>Image-URL-M</th>\n",
       "      <th>Image-URL-L</th>\n",
       "    </tr>\n",
       "  </thead>\n",
       "  <tbody>\n",
       "    <tr>\n",
       "      <th>0</th>\n",
       "      <td>0195153448</td>\n",
       "      <td>Classical Mythology</td>\n",
       "      <td>Mark P. O. Morford</td>\n",
       "      <td>2002</td>\n",
       "      <td>Oxford University Press</td>\n",
       "      <td>http://images.amazon.com/images/P/0195153448.0...</td>\n",
       "      <td>http://images.amazon.com/images/P/0195153448.0...</td>\n",
       "      <td>http://images.amazon.com/images/P/0195153448.0...</td>\n",
       "    </tr>\n",
       "    <tr>\n",
       "      <th>1</th>\n",
       "      <td>0002005018</td>\n",
       "      <td>Clara Callan</td>\n",
       "      <td>Richard Bruce Wright</td>\n",
       "      <td>2001</td>\n",
       "      <td>HarperFlamingo Canada</td>\n",
       "      <td>http://images.amazon.com/images/P/0002005018.0...</td>\n",
       "      <td>http://images.amazon.com/images/P/0002005018.0...</td>\n",
       "      <td>http://images.amazon.com/images/P/0002005018.0...</td>\n",
       "    </tr>\n",
       "    <tr>\n",
       "      <th>2</th>\n",
       "      <td>0060973129</td>\n",
       "      <td>Decision in Normandy</td>\n",
       "      <td>Carlo D'Este</td>\n",
       "      <td>1991</td>\n",
       "      <td>HarperPerennial</td>\n",
       "      <td>http://images.amazon.com/images/P/0060973129.0...</td>\n",
       "      <td>http://images.amazon.com/images/P/0060973129.0...</td>\n",
       "      <td>http://images.amazon.com/images/P/0060973129.0...</td>\n",
       "    </tr>\n",
       "    <tr>\n",
       "      <th>3</th>\n",
       "      <td>0374157065</td>\n",
       "      <td>Flu: The Story of the Great Influenza Pandemic...</td>\n",
       "      <td>Gina Bari Kolata</td>\n",
       "      <td>1999</td>\n",
       "      <td>Farrar Straus Giroux</td>\n",
       "      <td>http://images.amazon.com/images/P/0374157065.0...</td>\n",
       "      <td>http://images.amazon.com/images/P/0374157065.0...</td>\n",
       "      <td>http://images.amazon.com/images/P/0374157065.0...</td>\n",
       "    </tr>\n",
       "    <tr>\n",
       "      <th>4</th>\n",
       "      <td>0393045218</td>\n",
       "      <td>The Mummies of Urumchi</td>\n",
       "      <td>E. J. W. Barber</td>\n",
       "      <td>1999</td>\n",
       "      <td>W. W. Norton &amp;amp; Company</td>\n",
       "      <td>http://images.amazon.com/images/P/0393045218.0...</td>\n",
       "      <td>http://images.amazon.com/images/P/0393045218.0...</td>\n",
       "      <td>http://images.amazon.com/images/P/0393045218.0...</td>\n",
       "    </tr>\n",
       "  </tbody>\n",
       "</table>\n",
       "</div>"
      ],
      "text/plain": [
       "         ISBN                                         Book-Title  \\\n",
       "0  0195153448                                Classical Mythology   \n",
       "1  0002005018                                       Clara Callan   \n",
       "2  0060973129                               Decision in Normandy   \n",
       "3  0374157065  Flu: The Story of the Great Influenza Pandemic...   \n",
       "4  0393045218                             The Mummies of Urumchi   \n",
       "\n",
       "            Book-Author Year-Of-Publication                   Publisher  \\\n",
       "0    Mark P. O. Morford                2002     Oxford University Press   \n",
       "1  Richard Bruce Wright                2001       HarperFlamingo Canada   \n",
       "2          Carlo D'Este                1991             HarperPerennial   \n",
       "3      Gina Bari Kolata                1999        Farrar Straus Giroux   \n",
       "4       E. J. W. Barber                1999  W. W. Norton &amp; Company   \n",
       "\n",
       "                                         Image-URL-S  \\\n",
       "0  http://images.amazon.com/images/P/0195153448.0...   \n",
       "1  http://images.amazon.com/images/P/0002005018.0...   \n",
       "2  http://images.amazon.com/images/P/0060973129.0...   \n",
       "3  http://images.amazon.com/images/P/0374157065.0...   \n",
       "4  http://images.amazon.com/images/P/0393045218.0...   \n",
       "\n",
       "                                         Image-URL-M  \\\n",
       "0  http://images.amazon.com/images/P/0195153448.0...   \n",
       "1  http://images.amazon.com/images/P/0002005018.0...   \n",
       "2  http://images.amazon.com/images/P/0060973129.0...   \n",
       "3  http://images.amazon.com/images/P/0374157065.0...   \n",
       "4  http://images.amazon.com/images/P/0393045218.0...   \n",
       "\n",
       "                                         Image-URL-L  \n",
       "0  http://images.amazon.com/images/P/0195153448.0...  \n",
       "1  http://images.amazon.com/images/P/0002005018.0...  \n",
       "2  http://images.amazon.com/images/P/0060973129.0...  \n",
       "3  http://images.amazon.com/images/P/0374157065.0...  \n",
       "4  http://images.amazon.com/images/P/0393045218.0...  "
      ]
     },
     "execution_count": 13,
     "metadata": {},
     "output_type": "execute_result"
    }
   ],
   "source": [
    "books_df.head()"
   ]
  },
  {
   "cell_type": "markdown",
   "id": "194c9cb9-6c66-4bb3-bf11-45e26f8fd5f7",
   "metadata": {},
   "source": [
    "1) Missing Values"
   ]
  },
  {
   "cell_type": "code",
   "execution_count": 17,
   "id": "35fd1c92-574e-40a4-910e-4481e8c332ad",
   "metadata": {},
   "outputs": [
    {
     "data": {
      "text/plain": [
       "ISBN                   0\n",
       "Book-Title             0\n",
       "Book-Author            2\n",
       "Year-Of-Publication    0\n",
       "Publisher              2\n",
       "Image-URL-S            0\n",
       "Image-URL-M            0\n",
       "Image-URL-L            3\n",
       "dtype: int64"
      ]
     },
     "execution_count": 17,
     "metadata": {},
     "output_type": "execute_result"
    }
   ],
   "source": [
    "books_df.isna().sum()"
   ]
  },
  {
   "cell_type": "code",
   "execution_count": 19,
   "id": "28a08dbd-ad63-486d-9600-10154ef2034b",
   "metadata": {},
   "outputs": [],
   "source": [
    "books_df.dropna(inplace=True)"
   ]
  },
  {
   "cell_type": "markdown",
   "id": "956a7c5f-fb8b-4015-b51e-55aeb10d2f4c",
   "metadata": {},
   "source": [
    "2)Selecting the Features"
   ]
  },
  {
   "cell_type": "code",
   "execution_count": 22,
   "id": "bd97570b-0694-4f43-8b19-cb186e661ddf",
   "metadata": {},
   "outputs": [
    {
     "data": {
      "text/html": [
       "<div>\n",
       "<style scoped>\n",
       "    .dataframe tbody tr th:only-of-type {\n",
       "        vertical-align: middle;\n",
       "    }\n",
       "\n",
       "    .dataframe tbody tr th {\n",
       "        vertical-align: top;\n",
       "    }\n",
       "\n",
       "    .dataframe thead th {\n",
       "        text-align: right;\n",
       "    }\n",
       "</style>\n",
       "<table border=\"1\" class=\"dataframe\">\n",
       "  <thead>\n",
       "    <tr style=\"text-align: right;\">\n",
       "      <th></th>\n",
       "      <th>ISBN</th>\n",
       "      <th>Book-Title</th>\n",
       "      <th>Book-Author</th>\n",
       "      <th>Year-Of-Publication</th>\n",
       "      <th>Publisher</th>\n",
       "      <th>Image-URL-S</th>\n",
       "      <th>Image-URL-M</th>\n",
       "      <th>Image-URL-L</th>\n",
       "    </tr>\n",
       "  </thead>\n",
       "  <tbody>\n",
       "    <tr>\n",
       "      <th>0</th>\n",
       "      <td>0195153448</td>\n",
       "      <td>Classical Mythology</td>\n",
       "      <td>Mark P. O. Morford</td>\n",
       "      <td>2002</td>\n",
       "      <td>Oxford University Press</td>\n",
       "      <td>http://images.amazon.com/images/P/0195153448.0...</td>\n",
       "      <td>http://images.amazon.com/images/P/0195153448.0...</td>\n",
       "      <td>http://images.amazon.com/images/P/0195153448.0...</td>\n",
       "    </tr>\n",
       "    <tr>\n",
       "      <th>1</th>\n",
       "      <td>0002005018</td>\n",
       "      <td>Clara Callan</td>\n",
       "      <td>Richard Bruce Wright</td>\n",
       "      <td>2001</td>\n",
       "      <td>HarperFlamingo Canada</td>\n",
       "      <td>http://images.amazon.com/images/P/0002005018.0...</td>\n",
       "      <td>http://images.amazon.com/images/P/0002005018.0...</td>\n",
       "      <td>http://images.amazon.com/images/P/0002005018.0...</td>\n",
       "    </tr>\n",
       "    <tr>\n",
       "      <th>2</th>\n",
       "      <td>0060973129</td>\n",
       "      <td>Decision in Normandy</td>\n",
       "      <td>Carlo D'Este</td>\n",
       "      <td>1991</td>\n",
       "      <td>HarperPerennial</td>\n",
       "      <td>http://images.amazon.com/images/P/0060973129.0...</td>\n",
       "      <td>http://images.amazon.com/images/P/0060973129.0...</td>\n",
       "      <td>http://images.amazon.com/images/P/0060973129.0...</td>\n",
       "    </tr>\n",
       "    <tr>\n",
       "      <th>3</th>\n",
       "      <td>0374157065</td>\n",
       "      <td>Flu: The Story of the Great Influenza Pandemic...</td>\n",
       "      <td>Gina Bari Kolata</td>\n",
       "      <td>1999</td>\n",
       "      <td>Farrar Straus Giroux</td>\n",
       "      <td>http://images.amazon.com/images/P/0374157065.0...</td>\n",
       "      <td>http://images.amazon.com/images/P/0374157065.0...</td>\n",
       "      <td>http://images.amazon.com/images/P/0374157065.0...</td>\n",
       "    </tr>\n",
       "    <tr>\n",
       "      <th>4</th>\n",
       "      <td>0393045218</td>\n",
       "      <td>The Mummies of Urumchi</td>\n",
       "      <td>E. J. W. Barber</td>\n",
       "      <td>1999</td>\n",
       "      <td>W. W. Norton &amp;amp; Company</td>\n",
       "      <td>http://images.amazon.com/images/P/0393045218.0...</td>\n",
       "      <td>http://images.amazon.com/images/P/0393045218.0...</td>\n",
       "      <td>http://images.amazon.com/images/P/0393045218.0...</td>\n",
       "    </tr>\n",
       "  </tbody>\n",
       "</table>\n",
       "</div>"
      ],
      "text/plain": [
       "         ISBN                                         Book-Title  \\\n",
       "0  0195153448                                Classical Mythology   \n",
       "1  0002005018                                       Clara Callan   \n",
       "2  0060973129                               Decision in Normandy   \n",
       "3  0374157065  Flu: The Story of the Great Influenza Pandemic...   \n",
       "4  0393045218                             The Mummies of Urumchi   \n",
       "\n",
       "            Book-Author Year-Of-Publication                   Publisher  \\\n",
       "0    Mark P. O. Morford                2002     Oxford University Press   \n",
       "1  Richard Bruce Wright                2001       HarperFlamingo Canada   \n",
       "2          Carlo D'Este                1991             HarperPerennial   \n",
       "3      Gina Bari Kolata                1999        Farrar Straus Giroux   \n",
       "4       E. J. W. Barber                1999  W. W. Norton &amp; Company   \n",
       "\n",
       "                                         Image-URL-S  \\\n",
       "0  http://images.amazon.com/images/P/0195153448.0...   \n",
       "1  http://images.amazon.com/images/P/0002005018.0...   \n",
       "2  http://images.amazon.com/images/P/0060973129.0...   \n",
       "3  http://images.amazon.com/images/P/0374157065.0...   \n",
       "4  http://images.amazon.com/images/P/0393045218.0...   \n",
       "\n",
       "                                         Image-URL-M  \\\n",
       "0  http://images.amazon.com/images/P/0195153448.0...   \n",
       "1  http://images.amazon.com/images/P/0002005018.0...   \n",
       "2  http://images.amazon.com/images/P/0060973129.0...   \n",
       "3  http://images.amazon.com/images/P/0374157065.0...   \n",
       "4  http://images.amazon.com/images/P/0393045218.0...   \n",
       "\n",
       "                                         Image-URL-L  \n",
       "0  http://images.amazon.com/images/P/0195153448.0...  \n",
       "1  http://images.amazon.com/images/P/0002005018.0...  \n",
       "2  http://images.amazon.com/images/P/0060973129.0...  \n",
       "3  http://images.amazon.com/images/P/0374157065.0...  \n",
       "4  http://images.amazon.com/images/P/0393045218.0...  "
      ]
     },
     "execution_count": 22,
     "metadata": {},
     "output_type": "execute_result"
    }
   ],
   "source": [
    "books_df.head()"
   ]
  },
  {
   "cell_type": "code",
   "execution_count": 24,
   "id": "3f9db6bf-9587-40e0-8ab9-2fc08b6edc3f",
   "metadata": {},
   "outputs": [],
   "source": [
    "books_df.drop(['Image-URL-S', 'Image-URL-M'], axis=1, inplace=True)"
   ]
  },
  {
   "cell_type": "code",
   "execution_count": 26,
   "id": "77d4682e-684a-41d8-bfb2-6d0756930921",
   "metadata": {},
   "outputs": [],
   "source": [
    "books_df = books_df.rename(columns={\n",
    "    'ISBN': 'ISBN',\n",
    "    'Book-Title': 'Title',\n",
    "    'Book-Author': 'Author',\n",
    "    'Year-Of-Publication': 'Publication_year',\n",
    "    'Publisher': 'Publisher',\n",
    "    'Image-URL-L': 'Book_image'\n",
    "})"
   ]
  },
  {
   "cell_type": "markdown",
   "id": "acd9d479-5550-495e-8505-ccb7557d6681",
   "metadata": {},
   "source": [
    "2) Coorect data types"
   ]
  },
  {
   "cell_type": "code",
   "execution_count": 29,
   "id": "5f60088d-6997-4ed2-8d58-b7db952c13b0",
   "metadata": {},
   "outputs": [
    {
     "name": "stdout",
     "output_type": "stream",
     "text": [
      "<class 'pandas.core.frame.DataFrame'>\n",
      "Index: 271353 entries, 0 to 271359\n",
      "Data columns (total 6 columns):\n",
      " #   Column            Non-Null Count   Dtype \n",
      "---  ------            --------------   ----- \n",
      " 0   ISBN              271353 non-null  object\n",
      " 1   Title             271353 non-null  object\n",
      " 2   Author            271353 non-null  object\n",
      " 3   Publication_year  271353 non-null  object\n",
      " 4   Publisher         271353 non-null  object\n",
      " 5   Book_image        271353 non-null  object\n",
      "dtypes: object(6)\n",
      "memory usage: 14.5+ MB\n"
     ]
    }
   ],
   "source": [
    "books_df.info()"
   ]
  },
  {
   "cell_type": "code",
   "execution_count": 31,
   "id": "a1710052-415f-49fc-8ebf-27aa1479765d",
   "metadata": {},
   "outputs": [],
   "source": [
    "books_df['Publication_year'] = pd.to_numeric(books_df['Publication_year'])"
   ]
  },
  {
   "cell_type": "code",
   "execution_count": 33,
   "id": "11e76986-b009-4601-b94a-5b0d7d725954",
   "metadata": {},
   "outputs": [
    {
     "data": {
      "text/plain": [
       "count    271353.000000\n",
       "mean       1959.760235\n",
       "std         257.996082\n",
       "min           0.000000\n",
       "25%        1989.000000\n",
       "50%        1995.000000\n",
       "75%        2000.000000\n",
       "max        2050.000000\n",
       "Name: Publication_year, dtype: float64"
      ]
     },
     "execution_count": 33,
     "metadata": {},
     "output_type": "execute_result"
    }
   ],
   "source": [
    "books_df['Publication_year'].describe()"
   ]
  },
  {
   "cell_type": "code",
   "execution_count": 35,
   "id": "a0b9f254-6068-4b81-a917-5ac2412a1d57",
   "metadata": {},
   "outputs": [
    {
     "data": {
      "text/html": [
       "<div>\n",
       "<style scoped>\n",
       "    .dataframe tbody tr th:only-of-type {\n",
       "        vertical-align: middle;\n",
       "    }\n",
       "\n",
       "    .dataframe tbody tr th {\n",
       "        vertical-align: top;\n",
       "    }\n",
       "\n",
       "    .dataframe thead th {\n",
       "        text-align: right;\n",
       "    }\n",
       "</style>\n",
       "<table border=\"1\" class=\"dataframe\">\n",
       "  <thead>\n",
       "    <tr style=\"text-align: right;\">\n",
       "      <th></th>\n",
       "      <th>ISBN</th>\n",
       "      <th>Title</th>\n",
       "      <th>Author</th>\n",
       "      <th>Publication_year</th>\n",
       "      <th>Publisher</th>\n",
       "      <th>Book_image</th>\n",
       "    </tr>\n",
       "  </thead>\n",
       "  <tbody>\n",
       "    <tr>\n",
       "      <th>3541</th>\n",
       "      <td>0140124373</td>\n",
       "      <td>Red Dwarf</td>\n",
       "      <td>Grant Naylor</td>\n",
       "      <td>2005</td>\n",
       "      <td>Penguin Books Ltd</td>\n",
       "      <td>http://images.amazon.com/images/P/0140124373.0...</td>\n",
       "    </tr>\n",
       "    <tr>\n",
       "      <th>12782</th>\n",
       "      <td>0380816792</td>\n",
       "      <td>A Rose in Winter</td>\n",
       "      <td>Kathleen E. Woodiwiss</td>\n",
       "      <td>2011</td>\n",
       "      <td>Harper Mass Market Paperbacks</td>\n",
       "      <td>http://images.amazon.com/images/P/0380816792.0...</td>\n",
       "    </tr>\n",
       "    <tr>\n",
       "      <th>26166</th>\n",
       "      <td>006272004X</td>\n",
       "      <td>The Astrologer's Handbook</td>\n",
       "      <td>Frances Sakoian</td>\n",
       "      <td>2005</td>\n",
       "      <td>HarperResource</td>\n",
       "      <td>http://images.amazon.com/images/P/006272004X.0...</td>\n",
       "    </tr>\n",
       "    <tr>\n",
       "      <th>30010</th>\n",
       "      <td>068160204X</td>\n",
       "      <td>The Royals</td>\n",
       "      <td>Kitty Kelley</td>\n",
       "      <td>2020</td>\n",
       "      <td>Bausch &amp;amp; Lombard</td>\n",
       "      <td>http://images.amazon.com/images/P/068160204X.0...</td>\n",
       "    </tr>\n",
       "    <tr>\n",
       "      <th>37487</th>\n",
       "      <td>0671746103</td>\n",
       "      <td>MY TEACHER FRIED MY BRAINS (RACK SIZE) (MY TEA...</td>\n",
       "      <td>Coville</td>\n",
       "      <td>2030</td>\n",
       "      <td>Aladdin</td>\n",
       "      <td>http://images.amazon.com/images/P/0671746103.0...</td>\n",
       "    </tr>\n",
       "    <tr>\n",
       "      <th>...</th>\n",
       "      <td>...</td>\n",
       "      <td>...</td>\n",
       "      <td>...</td>\n",
       "      <td>...</td>\n",
       "      <td>...</td>\n",
       "      <td>...</td>\n",
       "    </tr>\n",
       "    <tr>\n",
       "      <th>255409</th>\n",
       "      <td>068471809X</td>\n",
       "      <td>To Have and Have Not</td>\n",
       "      <td>Ernest Hemingway</td>\n",
       "      <td>2037</td>\n",
       "      <td>Simon &amp;amp; Schuster</td>\n",
       "      <td>http://images.amazon.com/images/P/068471809X.0...</td>\n",
       "    </tr>\n",
       "    <tr>\n",
       "      <th>258207</th>\n",
       "      <td>0743484894</td>\n",
       "      <td>The Winter's Tale (Folger Shakespeare Library)</td>\n",
       "      <td>William Shakespeare</td>\n",
       "      <td>2005</td>\n",
       "      <td>Washington Square Press</td>\n",
       "      <td>http://images.amazon.com/images/P/0743484894.0...</td>\n",
       "    </tr>\n",
       "    <tr>\n",
       "      <th>260974</th>\n",
       "      <td>0671740989</td>\n",
       "      <td>FOOTBALL SUPER TEAMS : FOOTBALL SUPER TEAMS</td>\n",
       "      <td>Bill Gutman</td>\n",
       "      <td>2030</td>\n",
       "      <td>Simon &amp;amp; Schuster Children's Publishing</td>\n",
       "      <td>http://images.amazon.com/images/P/0671740989.0...</td>\n",
       "    </tr>\n",
       "    <tr>\n",
       "      <th>269371</th>\n",
       "      <td>1582344574</td>\n",
       "      <td>Ninth Life of Louis Drax, The -POSTPONED</td>\n",
       "      <td>Liz Jensen</td>\n",
       "      <td>2005</td>\n",
       "      <td>Bloomsbury USA</td>\n",
       "      <td>http://images.amazon.com/images/P/1582344574.0...</td>\n",
       "    </tr>\n",
       "    <tr>\n",
       "      <th>271000</th>\n",
       "      <td>0743490258</td>\n",
       "      <td>Best of Friends</td>\n",
       "      <td>Cathy Kelly</td>\n",
       "      <td>2005</td>\n",
       "      <td>Downtown Press</td>\n",
       "      <td>http://images.amazon.com/images/P/0743490258.0...</td>\n",
       "    </tr>\n",
       "  </tbody>\n",
       "</table>\n",
       "<p>72 rows × 6 columns</p>\n",
       "</div>"
      ],
      "text/plain": [
       "              ISBN                                              Title  \\\n",
       "3541    0140124373                                          Red Dwarf   \n",
       "12782   0380816792                                   A Rose in Winter   \n",
       "26166   006272004X                          The Astrologer's Handbook   \n",
       "30010   068160204X                                         The Royals   \n",
       "37487   0671746103  MY TEACHER FRIED MY BRAINS (RACK SIZE) (MY TEA...   \n",
       "...            ...                                                ...   \n",
       "255409  068471809X                               To Have and Have Not   \n",
       "258207  0743484894     The Winter's Tale (Folger Shakespeare Library)   \n",
       "260974  0671740989        FOOTBALL SUPER TEAMS : FOOTBALL SUPER TEAMS   \n",
       "269371  1582344574           Ninth Life of Louis Drax, The -POSTPONED   \n",
       "271000  0743490258                                    Best of Friends   \n",
       "\n",
       "                       Author  Publication_year  \\\n",
       "3541             Grant Naylor              2005   \n",
       "12782   Kathleen E. Woodiwiss              2011   \n",
       "26166         Frances Sakoian              2005   \n",
       "30010            Kitty Kelley              2020   \n",
       "37487                 Coville              2030   \n",
       "...                       ...               ...   \n",
       "255409       Ernest Hemingway              2037   \n",
       "258207    William Shakespeare              2005   \n",
       "260974            Bill Gutman              2030   \n",
       "269371             Liz Jensen              2005   \n",
       "271000            Cathy Kelly              2005   \n",
       "\n",
       "                                         Publisher  \\\n",
       "3541                             Penguin Books Ltd   \n",
       "12782                Harper Mass Market Paperbacks   \n",
       "26166                               HarperResource   \n",
       "30010                         Bausch &amp; Lombard   \n",
       "37487                                      Aladdin   \n",
       "...                                            ...   \n",
       "255409                        Simon &amp; Schuster   \n",
       "258207                     Washington Square Press   \n",
       "260974  Simon &amp; Schuster Children's Publishing   \n",
       "269371                              Bloomsbury USA   \n",
       "271000                              Downtown Press   \n",
       "\n",
       "                                               Book_image  \n",
       "3541    http://images.amazon.com/images/P/0140124373.0...  \n",
       "12782   http://images.amazon.com/images/P/0380816792.0...  \n",
       "26166   http://images.amazon.com/images/P/006272004X.0...  \n",
       "30010   http://images.amazon.com/images/P/068160204X.0...  \n",
       "37487   http://images.amazon.com/images/P/0671746103.0...  \n",
       "...                                                   ...  \n",
       "255409  http://images.amazon.com/images/P/068471809X.0...  \n",
       "258207  http://images.amazon.com/images/P/0743484894.0...  \n",
       "260974  http://images.amazon.com/images/P/0671740989.0...  \n",
       "269371  http://images.amazon.com/images/P/1582344574.0...  \n",
       "271000  http://images.amazon.com/images/P/0743490258.0...  \n",
       "\n",
       "[72 rows x 6 columns]"
      ]
     },
     "execution_count": 35,
     "metadata": {},
     "output_type": "execute_result"
    }
   ],
   "source": [
    "books_df[books_df['Publication_year'] > 2004]"
   ]
  },
  {
   "cell_type": "code",
   "execution_count": 37,
   "id": "4ef13ad7-d9ae-4d54-8e70-46a9e235e8a1",
   "metadata": {},
   "outputs": [],
   "source": [
    "books_df = books_df[~(books_df['Publication_year'] > 2024)]"
   ]
  },
  {
   "cell_type": "markdown",
   "id": "8c9ae4d6-b88f-44e9-82c6-63b555499d02",
   "metadata": {},
   "source": [
    "3) check for dupllication"
   ]
  },
  {
   "cell_type": "code",
   "execution_count": 40,
   "id": "a27728f7-6d2a-44af-adbd-ce2b4e5d16ae",
   "metadata": {},
   "outputs": [
    {
     "data": {
      "text/html": [
       "<div>\n",
       "<style scoped>\n",
       "    .dataframe tbody tr th:only-of-type {\n",
       "        vertical-align: middle;\n",
       "    }\n",
       "\n",
       "    .dataframe tbody tr th {\n",
       "        vertical-align: top;\n",
       "    }\n",
       "\n",
       "    .dataframe thead th {\n",
       "        text-align: right;\n",
       "    }\n",
       "</style>\n",
       "<table border=\"1\" class=\"dataframe\">\n",
       "  <thead>\n",
       "    <tr style=\"text-align: right;\">\n",
       "      <th></th>\n",
       "      <th>ISBN</th>\n",
       "      <th>Title</th>\n",
       "      <th>Author</th>\n",
       "      <th>Publication_year</th>\n",
       "      <th>Publisher</th>\n",
       "      <th>Book_image</th>\n",
       "    </tr>\n",
       "  </thead>\n",
       "  <tbody>\n",
       "    <tr>\n",
       "      <th>0</th>\n",
       "      <td>0195153448</td>\n",
       "      <td>Classical Mythology</td>\n",
       "      <td>Mark P. O. Morford</td>\n",
       "      <td>2002</td>\n",
       "      <td>Oxford University Press</td>\n",
       "      <td>http://images.amazon.com/images/P/0195153448.0...</td>\n",
       "    </tr>\n",
       "    <tr>\n",
       "      <th>1</th>\n",
       "      <td>0002005018</td>\n",
       "      <td>Clara Callan</td>\n",
       "      <td>Richard Bruce Wright</td>\n",
       "      <td>2001</td>\n",
       "      <td>HarperFlamingo Canada</td>\n",
       "      <td>http://images.amazon.com/images/P/0002005018.0...</td>\n",
       "    </tr>\n",
       "    <tr>\n",
       "      <th>2</th>\n",
       "      <td>0060973129</td>\n",
       "      <td>Decision in Normandy</td>\n",
       "      <td>Carlo D'Este</td>\n",
       "      <td>1991</td>\n",
       "      <td>HarperPerennial</td>\n",
       "      <td>http://images.amazon.com/images/P/0060973129.0...</td>\n",
       "    </tr>\n",
       "    <tr>\n",
       "      <th>3</th>\n",
       "      <td>0374157065</td>\n",
       "      <td>Flu: The Story of the Great Influenza Pandemic...</td>\n",
       "      <td>Gina Bari Kolata</td>\n",
       "      <td>1999</td>\n",
       "      <td>Farrar Straus Giroux</td>\n",
       "      <td>http://images.amazon.com/images/P/0374157065.0...</td>\n",
       "    </tr>\n",
       "    <tr>\n",
       "      <th>4</th>\n",
       "      <td>0393045218</td>\n",
       "      <td>The Mummies of Urumchi</td>\n",
       "      <td>E. J. W. Barber</td>\n",
       "      <td>1999</td>\n",
       "      <td>W. W. Norton &amp;amp; Company</td>\n",
       "      <td>http://images.amazon.com/images/P/0393045218.0...</td>\n",
       "    </tr>\n",
       "  </tbody>\n",
       "</table>\n",
       "</div>"
      ],
      "text/plain": [
       "         ISBN                                              Title  \\\n",
       "0  0195153448                                Classical Mythology   \n",
       "1  0002005018                                       Clara Callan   \n",
       "2  0060973129                               Decision in Normandy   \n",
       "3  0374157065  Flu: The Story of the Great Influenza Pandemic...   \n",
       "4  0393045218                             The Mummies of Urumchi   \n",
       "\n",
       "                 Author  Publication_year                   Publisher  \\\n",
       "0    Mark P. O. Morford              2002     Oxford University Press   \n",
       "1  Richard Bruce Wright              2001       HarperFlamingo Canada   \n",
       "2          Carlo D'Este              1991             HarperPerennial   \n",
       "3      Gina Bari Kolata              1999        Farrar Straus Giroux   \n",
       "4       E. J. W. Barber              1999  W. W. Norton &amp; Company   \n",
       "\n",
       "                                          Book_image  \n",
       "0  http://images.amazon.com/images/P/0195153448.0...  \n",
       "1  http://images.amazon.com/images/P/0002005018.0...  \n",
       "2  http://images.amazon.com/images/P/0060973129.0...  \n",
       "3  http://images.amazon.com/images/P/0374157065.0...  \n",
       "4  http://images.amazon.com/images/P/0393045218.0...  "
      ]
     },
     "execution_count": 40,
     "metadata": {},
     "output_type": "execute_result"
    }
   ],
   "source": [
    "books_df.head()"
   ]
  },
  {
   "cell_type": "code",
   "execution_count": 42,
   "id": "da000fd5-f3c3-4c5c-898e-1af041b29ac1",
   "metadata": {},
   "outputs": [
    {
     "data": {
      "text/plain": [
       "271341"
      ]
     },
     "execution_count": 42,
     "metadata": {},
     "output_type": "execute_result"
    }
   ],
   "source": [
    "len(books_df['ISBN'].unique())"
   ]
  },
  {
   "cell_type": "code",
   "execution_count": 44,
   "id": "a8f4a29d-0264-4f02-8453-19a93686d470",
   "metadata": {},
   "outputs": [
    {
     "data": {
      "text/plain": [
       "0                                       Classical Mythology\n",
       "1                                              Clara Callan\n",
       "2                                      Decision in Normandy\n",
       "3         Flu: The Story of the Great Influenza Pandemic...\n",
       "4                                    The Mummies of Urumchi\n",
       "                                ...                        \n",
       "271355                           There's a Bat in Bunk Five\n",
       "271356                              From One to One Hundred\n",
       "271357    Lily Dale : The True Story of the Town that Ta...\n",
       "271358                          Republic (World's Classics)\n",
       "271359    A Guided Tour of Rene Descartes' Meditations o...\n",
       "Name: Title, Length: 271341, dtype: object"
      ]
     },
     "execution_count": 44,
     "metadata": {},
     "output_type": "execute_result"
    }
   ],
   "source": [
    "books_df['Title']"
   ]
  },
  {
   "cell_type": "code",
   "execution_count": 46,
   "id": "42bedaae-fce4-49ee-b478-871f0782a195",
   "metadata": {},
   "outputs": [],
   "source": [
    "books_df = books_df[~(books_df.duplicated(['Title']))]"
   ]
  },
  {
   "cell_type": "markdown",
   "id": "c159b126-f602-4a68-ad63-ce7452e8320c",
   "metadata": {},
   "source": [
    "4) Outliers"
   ]
  },
  {
   "cell_type": "code",
   "execution_count": 49,
   "id": "3019bfca-421e-4808-805d-ce133969ed98",
   "metadata": {},
   "outputs": [
    {
     "name": "stderr",
     "output_type": "stream",
     "text": [
      "C:\\Users\\gattu\\anaconda3\\Lib\\site-packages\\seaborn\\_oldcore.py:1119: FutureWarning: use_inf_as_na option is deprecated and will be removed in a future version. Convert inf values to NaN before operating instead.\n",
      "  with pd.option_context('mode.use_inf_as_na', True):\n"
     ]
    },
    {
     "data": {
      "text/plain": [
       "<Axes: xlabel='Publication_year', ylabel='Count'>"
      ]
     },
     "execution_count": 49,
     "metadata": {},
     "output_type": "execute_result"
    },
    {
     "data": {
      "image/png": "[encoded data removed]",
      "text/plain": [
       "<Figure size 640x480 with 1 Axes>"
      ]
     },
     "metadata": {},
     "output_type": "display_data"
    }
   ],
   "source": [
    "sns.histplot(books_df['Publication_year'])"
   ]
  },
  {
   "cell_type": "code",
   "execution_count": 50,
   "id": "8d7fd915-0f18-4fbc-8954-d1d74f019af1",
   "metadata": {},
   "outputs": [],
   "source": [
    "books_df = books_df[~(books_df['Publication_year'] == 0)]"
   ]
  },
  {
   "cell_type": "code",
   "execution_count": 51,
   "id": "b56779c3-ba18-4784-a98a-baa660d95432",
   "metadata": {},
   "outputs": [
    {
     "name": "stderr",
     "output_type": "stream",
     "text": [
      "C:\\Users\\gattu\\anaconda3\\Lib\\site-packages\\seaborn\\_oldcore.py:1119: FutureWarning: use_inf_as_na option is deprecated and will be removed in a future version. Convert inf values to NaN before operating instead.\n",
      "  with pd.option_context('mode.use_inf_as_na', True):\n"
     ]
    },
    {
     "data": {
      "text/plain": [
       "<Axes: xlabel='Publication_year', ylabel='Count'>"
      ]
     },
     "execution_count": 51,
     "metadata": {},
     "output_type": "execute_result"
    },
    {
     "data": {
      "image/png": "[encoded data removed]",
      "text/plain": [
       "<Figure size 640x480 with 1 Axes>"
      ]
     },
     "metadata": {},
     "output_type": "display_data"
    }
   ],
   "source": [
    "sns.histplot(books_df['Publication_year'])"
   ]
  },
  {
   "cell_type": "code",
   "execution_count": 54,
   "id": "09b475ff-b0d8-451b-94c1-1e7ff998dcf1",
   "metadata": {},
   "outputs": [],
   "source": [
    "books_df = books_df[~(books_df['Publication_year'] < 1900)]"
   ]
  },
  {
   "cell_type": "code",
   "execution_count": 55,
   "id": "4c3da456-0719-4e22-ac10-52b8ab3db399",
   "metadata": {},
   "outputs": [
    {
     "data": {
      "text/plain": [
       "238199"
      ]
     },
     "execution_count": 55,
     "metadata": {},
     "output_type": "execute_result"
    }
   ],
   "source": [
    "len(books_df['ISBN'].unique())"
   ]
  },
  {
   "cell_type": "code",
   "execution_count": 56,
   "id": "e22327f0-2757-42d8-8200-7e9e3b4e7ff4",
   "metadata": {},
   "outputs": [
    {
     "data": {
      "text/html": [
       "<div>\n",
       "<style scoped>\n",
       "    .dataframe tbody tr th:only-of-type {\n",
       "        vertical-align: middle;\n",
       "    }\n",
       "\n",
       "    .dataframe tbody tr th {\n",
       "        vertical-align: top;\n",
       "    }\n",
       "\n",
       "    .dataframe thead th {\n",
       "        text-align: right;\n",
       "    }\n",
       "</style>\n",
       "<table border=\"1\" class=\"dataframe\">\n",
       "  <thead>\n",
       "    <tr style=\"text-align: right;\">\n",
       "      <th></th>\n",
       "      <th>ISBN</th>\n",
       "      <th>Title</th>\n",
       "      <th>Author</th>\n",
       "      <th>Publication_year</th>\n",
       "      <th>Publisher</th>\n",
       "      <th>Book_image</th>\n",
       "    </tr>\n",
       "  </thead>\n",
       "  <tbody>\n",
       "    <tr>\n",
       "      <th>0</th>\n",
       "      <td>0195153448</td>\n",
       "      <td>Classical Mythology</td>\n",
       "      <td>Mark P. O. Morford</td>\n",
       "      <td>2002</td>\n",
       "      <td>Oxford University Press</td>\n",
       "      <td>http://images.amazon.com/images/P/0195153448.0...</td>\n",
       "    </tr>\n",
       "    <tr>\n",
       "      <th>1</th>\n",
       "      <td>0002005018</td>\n",
       "      <td>Clara Callan</td>\n",
       "      <td>Richard Bruce Wright</td>\n",
       "      <td>2001</td>\n",
       "      <td>HarperFlamingo Canada</td>\n",
       "      <td>http://images.amazon.com/images/P/0002005018.0...</td>\n",
       "    </tr>\n",
       "    <tr>\n",
       "      <th>2</th>\n",
       "      <td>0060973129</td>\n",
       "      <td>Decision in Normandy</td>\n",
       "      <td>Carlo D'Este</td>\n",
       "      <td>1991</td>\n",
       "      <td>HarperPerennial</td>\n",
       "      <td>http://images.amazon.com/images/P/0060973129.0...</td>\n",
       "    </tr>\n",
       "    <tr>\n",
       "      <th>3</th>\n",
       "      <td>0374157065</td>\n",
       "      <td>Flu: The Story of the Great Influenza Pandemic...</td>\n",
       "      <td>Gina Bari Kolata</td>\n",
       "      <td>1999</td>\n",
       "      <td>Farrar Straus Giroux</td>\n",
       "      <td>http://images.amazon.com/images/P/0374157065.0...</td>\n",
       "    </tr>\n",
       "    <tr>\n",
       "      <th>4</th>\n",
       "      <td>0393045218</td>\n",
       "      <td>The Mummies of Urumchi</td>\n",
       "      <td>E. J. W. Barber</td>\n",
       "      <td>1999</td>\n",
       "      <td>W. W. Norton &amp;amp; Company</td>\n",
       "      <td>http://images.amazon.com/images/P/0393045218.0...</td>\n",
       "    </tr>\n",
       "  </tbody>\n",
       "</table>\n",
       "</div>"
      ],
      "text/plain": [
       "         ISBN                                              Title  \\\n",
       "0  0195153448                                Classical Mythology   \n",
       "1  0002005018                                       Clara Callan   \n",
       "2  0060973129                               Decision in Normandy   \n",
       "3  0374157065  Flu: The Story of the Great Influenza Pandemic...   \n",
       "4  0393045218                             The Mummies of Urumchi   \n",
       "\n",
       "                 Author  Publication_year                   Publisher  \\\n",
       "0    Mark P. O. Morford              2002     Oxford University Press   \n",
       "1  Richard Bruce Wright              2001       HarperFlamingo Canada   \n",
       "2          Carlo D'Este              1991             HarperPerennial   \n",
       "3      Gina Bari Kolata              1999        Farrar Straus Giroux   \n",
       "4       E. J. W. Barber              1999  W. W. Norton &amp; Company   \n",
       "\n",
       "                                          Book_image  \n",
       "0  http://images.amazon.com/images/P/0195153448.0...  \n",
       "1  http://images.amazon.com/images/P/0002005018.0...  \n",
       "2  http://images.amazon.com/images/P/0060973129.0...  \n",
       "3  http://images.amazon.com/images/P/0374157065.0...  \n",
       "4  http://images.amazon.com/images/P/0393045218.0...  "
      ]
     },
     "execution_count": 56,
     "metadata": {},
     "output_type": "execute_result"
    }
   ],
   "source": [
    "books_df.head()"
   ]
  },
  {
   "cell_type": "code",
   "execution_count": 57,
   "id": "69a3c437-ffcb-4f11-afd7-b73c0d0deeae",
   "metadata": {},
   "outputs": [
    {
     "name": "stderr",
     "output_type": "stream",
     "text": [
      "C:\\Users\\gattu\\anaconda3\\Lib\\site-packages\\seaborn\\_oldcore.py:1119: FutureWarning: use_inf_as_na option is deprecated and will be removed in a future version. Convert inf values to NaN before operating instead.\n",
      "  with pd.option_context('mode.use_inf_as_na', True):\n"
     ]
    },
    {
     "data": {
      "text/plain": [
       "<Axes: xlabel='Publication_year', ylabel='Count'>"
      ]
     },
     "execution_count": 57,
     "metadata": {},
     "output_type": "execute_result"
    },
    {
     "data": {
      "image/png": "[encoded data removed]",
      "text/plain": [
       "<Figure size 640x480 with 1 Axes>"
      ]
     },
     "metadata": {},
     "output_type": "display_data"
    }
   ],
   "source": [
    "sns.histplot(books_df['Publication_year'])"
   ]
  },
  {
   "cell_type": "code",
   "execution_count": 67,
   "id": "f297d0ec-d815-4c90-8ea8-7ac2605ff578",
   "metadata": {},
   "outputs": [],
   "source": [
    "books_df = books_df[~(books_df['Publication_year'] < 1960)]"
   ]
  },
  {
   "cell_type": "code",
   "execution_count": 69,
   "id": "41a38983-a79c-4c32-9869-0214b3bec463",
   "metadata": {},
   "outputs": [
    {
     "name": "stderr",
     "output_type": "stream",
     "text": [
      "C:\\Users\\gattu\\anaconda3\\Lib\\site-packages\\seaborn\\_oldcore.py:1119: FutureWarning: use_inf_as_na option is deprecated and will be removed in a future version. Convert inf values to NaN before operating instead.\n",
      "  with pd.option_context('mode.use_inf_as_na', True):\n"
     ]
    },
    {
     "data": {
      "text/plain": [
       "<Axes: xlabel='Publication_year', ylabel='Count'>"
      ]
     },
     "execution_count": 69,
     "metadata": {},
     "output_type": "execute_result"
    },
    {
     "data": {
      "image/png": "[encoded data removed]",
      "text/plain": [
       "<Figure size 640x480 with 1 Axes>"
      ]
     },
     "metadata": {},
     "output_type": "display_data"
    }
   ],
   "source": [
    "sns.histplot(books_df['Publication_year'])"
   ]
  },
  {
   "cell_type": "code",
   "execution_count": 73,
   "id": "3f707327-d314-426d-ad36-9327e487171d",
   "metadata": {},
   "outputs": [],
   "source": [
    "books_df.to_csv(PROCESSED_BOOKS_OUTPUT, index=False)"
   ]
  },
  {
   "cell_type": "markdown",
   "id": "1dfb09e9-bc40-4ada-8a76-ef8aed040ca1",
   "metadata": {},
   "source": [
    "2) Users"
   ]
  },
  {
   "cell_type": "code",
   "execution_count": 76,
   "id": "e60bccbe-ef06-4642-b74e-579d1ec24546",
   "metadata": {},
   "outputs": [
    {
     "data": {
      "text/html": [
       "<div>\n",
       "<style scoped>\n",
       "    .dataframe tbody tr th:only-of-type {\n",
       "        vertical-align: middle;\n",
       "    }\n",
       "\n",
       "    .dataframe tbody tr th {\n",
       "        vertical-align: top;\n",
       "    }\n",
       "\n",
       "    .dataframe thead th {\n",
       "        text-align: right;\n",
       "    }\n",
       "</style>\n",
       "<table border=\"1\" class=\"dataframe\">\n",
       "  <thead>\n",
       "    <tr style=\"text-align: right;\">\n",
       "      <th></th>\n",
       "      <th>User-ID</th>\n",
       "      <th>Location</th>\n",
       "      <th>Age</th>\n",
       "    </tr>\n",
       "  </thead>\n",
       "  <tbody>\n",
       "    <tr>\n",
       "      <th>0</th>\n",
       "      <td>1</td>\n",
       "      <td>nyc, new york, usa</td>\n",
       "      <td>NaN</td>\n",
       "    </tr>\n",
       "    <tr>\n",
       "      <th>1</th>\n",
       "      <td>2</td>\n",
       "      <td>stockton, california, usa</td>\n",
       "      <td>18.0</td>\n",
       "    </tr>\n",
       "    <tr>\n",
       "      <th>2</th>\n",
       "      <td>3</td>\n",
       "      <td>moscow, yukon territory, russia</td>\n",
       "      <td>NaN</td>\n",
       "    </tr>\n",
       "    <tr>\n",
       "      <th>3</th>\n",
       "      <td>4</td>\n",
       "      <td>porto, v.n.gaia, portugal</td>\n",
       "      <td>17.0</td>\n",
       "    </tr>\n",
       "    <tr>\n",
       "      <th>4</th>\n",
       "      <td>5</td>\n",
       "      <td>farnborough, hants, united kingdom</td>\n",
       "      <td>NaN</td>\n",
       "    </tr>\n",
       "    <tr>\n",
       "      <th>...</th>\n",
       "      <td>...</td>\n",
       "      <td>...</td>\n",
       "      <td>...</td>\n",
       "    </tr>\n",
       "    <tr>\n",
       "      <th>278853</th>\n",
       "      <td>278854</td>\n",
       "      <td>portland, oregon, usa</td>\n",
       "      <td>NaN</td>\n",
       "    </tr>\n",
       "    <tr>\n",
       "      <th>278854</th>\n",
       "      <td>278855</td>\n",
       "      <td>tacoma, washington, united kingdom</td>\n",
       "      <td>50.0</td>\n",
       "    </tr>\n",
       "    <tr>\n",
       "      <th>278855</th>\n",
       "      <td>278856</td>\n",
       "      <td>brampton, ontario, canada</td>\n",
       "      <td>NaN</td>\n",
       "    </tr>\n",
       "    <tr>\n",
       "      <th>278856</th>\n",
       "      <td>278857</td>\n",
       "      <td>knoxville, tennessee, usa</td>\n",
       "      <td>NaN</td>\n",
       "    </tr>\n",
       "    <tr>\n",
       "      <th>278857</th>\n",
       "      <td>278858</td>\n",
       "      <td>dublin, n/a, ireland</td>\n",
       "      <td>NaN</td>\n",
       "    </tr>\n",
       "  </tbody>\n",
       "</table>\n",
       "<p>278858 rows × 3 columns</p>\n",
       "</div>"
      ],
      "text/plain": [
       "        User-ID                            Location   Age\n",
       "0             1                  nyc, new york, usa   NaN\n",
       "1             2           stockton, california, usa  18.0\n",
       "2             3     moscow, yukon territory, russia   NaN\n",
       "3             4           porto, v.n.gaia, portugal  17.0\n",
       "4             5  farnborough, hants, united kingdom   NaN\n",
       "...         ...                                 ...   ...\n",
       "278853   278854               portland, oregon, usa   NaN\n",
       "278854   278855  tacoma, washington, united kingdom  50.0\n",
       "278855   278856           brampton, ontario, canada   NaN\n",
       "278856   278857           knoxville, tennessee, usa   NaN\n",
       "278857   278858                dublin, n/a, ireland   NaN\n",
       "\n",
       "[278858 rows x 3 columns]"
      ]
     },
     "execution_count": 76,
     "metadata": {},
     "output_type": "execute_result"
    }
   ],
   "source": [
    "users_df\n"
   ]
  },
  {
   "cell_type": "markdown",
   "id": "b4b7603c-b3aa-4fc7-84eb-fd48cd4875d7",
   "metadata": {},
   "source": [
    "a) Missing Values"
   ]
  },
  {
   "cell_type": "code",
   "execution_count": 79,
   "id": "b64b05f9-c3b4-40de-a8c4-144f73e59358",
   "metadata": {},
   "outputs": [
    {
     "data": {
      "text/plain": [
       "User-ID      0.000000\n",
       "Location     0.000000\n",
       "Age         39.719857\n",
       "dtype: float64"
      ]
     },
     "execution_count": 79,
     "metadata": {},
     "output_type": "execute_result"
    }
   ],
   "source": [
    "users_df.isna().sum() / len(users_df) * 100"
   ]
  },
  {
   "cell_type": "code",
   "execution_count": 81,
   "id": "a497ee21-fcb7-4419-946e-0f62a2022757",
   "metadata": {},
   "outputs": [],
   "source": [
    "users_df.drop('Age', axis=1, inplace=True)"
   ]
  },
  {
   "cell_type": "markdown",
   "id": "e3d740d8-935e-4121-9652-5948d7fd32a5",
   "metadata": {},
   "source": [
    "2) select features"
   ]
  },
  {
   "cell_type": "markdown",
   "id": "180746fa-662b-4bdd-91a4-00f92ce61225",
   "metadata": {},
   "source": [
    "b) coorect data types"
   ]
  },
  {
   "cell_type": "code",
   "execution_count": 85,
   "id": "0e177ea8-bb81-45e6-9f9d-2819726f54b3",
   "metadata": {},
   "outputs": [
    {
     "name": "stdout",
     "output_type": "stream",
     "text": [
      "<class 'pandas.core.frame.DataFrame'>\n",
      "RangeIndex: 278858 entries, 0 to 278857\n",
      "Data columns (total 2 columns):\n",
      " #   Column    Non-Null Count   Dtype \n",
      "---  ------    --------------   ----- \n",
      " 0   User-ID   278858 non-null  int64 \n",
      " 1   Location  278858 non-null  object\n",
      "dtypes: int64(1), object(1)\n",
      "memory usage: 4.3+ MB\n"
     ]
    }
   ],
   "source": [
    "users_df.info()"
   ]
  },
  {
   "cell_type": "markdown",
   "id": "883d3248-5759-44a2-889c-fed0ee4ebcd5",
   "metadata": {},
   "source": [
    "3) Check for duplication"
   ]
  },
  {
   "cell_type": "code",
   "execution_count": 88,
   "id": "b26bc99f-1fd3-4146-9ec5-85b2345959bc",
   "metadata": {},
   "outputs": [
    {
     "data": {
      "text/plain": [
       "User-ID     0.0\n",
       "Location    0.0\n",
       "dtype: float64"
      ]
     },
     "execution_count": 88,
     "metadata": {},
     "output_type": "execute_result"
    }
   ],
   "source": [
    "users_df.isna().sum() / len(users_df) * 100"
   ]
  },
  {
   "cell_type": "code",
   "execution_count": 90,
   "id": "d358ac41-0ca7-477d-ac07-97abb01e39ed",
   "metadata": {},
   "outputs": [],
   "source": [
    "# users_df.drop('Age', axis=1, inplace=True)\n"
   ]
  },
  {
   "cell_type": "markdown",
   "id": "8889c4b4-aa80-4e11-a281-92d084b48515",
   "metadata": {},
   "source": [
    "2) select features \n",
    "    2) correct data types"
   ]
  },
  {
   "cell_type": "code",
   "execution_count": 93,
   "id": "e2c8482a-b692-4a7c-aadc-436623f88e9a",
   "metadata": {},
   "outputs": [
    {
     "name": "stdout",
     "output_type": "stream",
     "text": [
      "<class 'pandas.core.frame.DataFrame'>\n",
      "RangeIndex: 278858 entries, 0 to 278857\n",
      "Data columns (total 2 columns):\n",
      " #   Column    Non-Null Count   Dtype \n",
      "---  ------    --------------   ----- \n",
      " 0   User-ID   278858 non-null  int64 \n",
      " 1   Location  278858 non-null  object\n",
      "dtypes: int64(1), object(1)\n",
      "memory usage: 4.3+ MB\n"
     ]
    }
   ],
   "source": [
    "users_df.info()"
   ]
  },
  {
   "cell_type": "markdown",
   "id": "7d2d697a-29d4-4907-9c59-6e473da0841f",
   "metadata": {},
   "source": [
    "3) check for duplication"
   ]
  },
  {
   "cell_type": "code",
   "execution_count": 96,
   "id": "953f7b65-d27c-4680-8e09-b13f65746c59",
   "metadata": {},
   "outputs": [
    {
     "data": {
      "text/html": [
       "<div>\n",
       "<style scoped>\n",
       "    .dataframe tbody tr th:only-of-type {\n",
       "        vertical-align: middle;\n",
       "    }\n",
       "\n",
       "    .dataframe tbody tr th {\n",
       "        vertical-align: top;\n",
       "    }\n",
       "\n",
       "    .dataframe thead th {\n",
       "        text-align: right;\n",
       "    }\n",
       "</style>\n",
       "<table border=\"1\" class=\"dataframe\">\n",
       "  <thead>\n",
       "    <tr style=\"text-align: right;\">\n",
       "      <th></th>\n",
       "      <th>User-ID</th>\n",
       "      <th>Location</th>\n",
       "    </tr>\n",
       "  </thead>\n",
       "  <tbody>\n",
       "  </tbody>\n",
       "</table>\n",
       "</div>"
      ],
      "text/plain": [
       "Empty DataFrame\n",
       "Columns: [User-ID, Location]\n",
       "Index: []"
      ]
     },
     "execution_count": 96,
     "metadata": {},
     "output_type": "execute_result"
    }
   ],
   "source": [
    "users_df[users_df.duplicated()]"
   ]
  },
  {
   "cell_type": "code",
   "execution_count": 98,
   "id": "c41b3b7b-8d97-49d7-8a68-2651a3b607c8",
   "metadata": {},
   "outputs": [],
   "source": [
    "users_df.to_csv(PROCESSED_Users_OUTPUT, index=False)"
   ]
  },
  {
   "cell_type": "markdown",
   "id": "823da7e5-3b4b-4300-adc7-4b7a42c331d9",
   "metadata": {},
   "source": [
    "Ratings"
   ]
  },
  {
   "cell_type": "code",
   "execution_count": 101,
   "id": "5018fe03-6649-49b9-b776-2e0f519db3e6",
   "metadata": {},
   "outputs": [
    {
     "data": {
      "text/html": [
       "<div>\n",
       "<style scoped>\n",
       "    .dataframe tbody tr th:only-of-type {\n",
       "        vertical-align: middle;\n",
       "    }\n",
       "\n",
       "    .dataframe tbody tr th {\n",
       "        vertical-align: top;\n",
       "    }\n",
       "\n",
       "    .dataframe thead th {\n",
       "        text-align: right;\n",
       "    }\n",
       "</style>\n",
       "<table border=\"1\" class=\"dataframe\">\n",
       "  <thead>\n",
       "    <tr style=\"text-align: right;\">\n",
       "      <th></th>\n",
       "      <th>User-ID</th>\n",
       "      <th>ISBN</th>\n",
       "      <th>Book-Rating</th>\n",
       "    </tr>\n",
       "  </thead>\n",
       "  <tbody>\n",
       "    <tr>\n",
       "      <th>0</th>\n",
       "      <td>276725</td>\n",
       "      <td>034545104X</td>\n",
       "      <td>0</td>\n",
       "    </tr>\n",
       "    <tr>\n",
       "      <th>1</th>\n",
       "      <td>276726</td>\n",
       "      <td>0155061224</td>\n",
       "      <td>5</td>\n",
       "    </tr>\n",
       "    <tr>\n",
       "      <th>2</th>\n",
       "      <td>276727</td>\n",
       "      <td>0446520802</td>\n",
       "      <td>0</td>\n",
       "    </tr>\n",
       "    <tr>\n",
       "      <th>3</th>\n",
       "      <td>276729</td>\n",
       "      <td>052165615X</td>\n",
       "      <td>3</td>\n",
       "    </tr>\n",
       "    <tr>\n",
       "      <th>4</th>\n",
       "      <td>276729</td>\n",
       "      <td>0521795028</td>\n",
       "      <td>6</td>\n",
       "    </tr>\n",
       "  </tbody>\n",
       "</table>\n",
       "</div>"
      ],
      "text/plain": [
       "   User-ID        ISBN  Book-Rating\n",
       "0   276725  034545104X            0\n",
       "1   276726  0155061224            5\n",
       "2   276727  0446520802            0\n",
       "3   276729  052165615X            3\n",
       "4   276729  0521795028            6"
      ]
     },
     "execution_count": 101,
     "metadata": {},
     "output_type": "execute_result"
    }
   ],
   "source": [
    "rating_df.head()"
   ]
  },
  {
   "cell_type": "code",
   "execution_count": 103,
   "id": "3aa01f3f-080a-47f2-bb2b-2fd9fc4245a5",
   "metadata": {},
   "outputs": [
    {
     "data": {
      "text/plain": [
       "User-ID        0.0\n",
       "ISBN           0.0\n",
       "Book-Rating    0.0\n",
       "dtype: float64"
      ]
     },
     "execution_count": 103,
     "metadata": {},
     "output_type": "execute_result"
    }
   ],
   "source": [
    "# Missing values\n",
    "rating_df.isna().sum() / len(rating_df) * 100"
   ]
  },
  {
   "cell_type": "markdown",
   "id": "f93ea76c-f0d8-491d-b87d-b384174cd75a",
   "metadata": {},
   "source": [
    "2) select features\n",
    "    2) correct data types"
   ]
  },
  {
   "cell_type": "code",
   "execution_count": 106,
   "id": "ed67781e-0862-4f0b-ad0a-c3e31fda1db1",
   "metadata": {},
   "outputs": [
    {
     "name": "stdout",
     "output_type": "stream",
     "text": [
      "<class 'pandas.core.frame.DataFrame'>\n",
      "RangeIndex: 1149780 entries, 0 to 1149779\n",
      "Data columns (total 3 columns):\n",
      " #   Column       Non-Null Count    Dtype \n",
      "---  ------       --------------    ----- \n",
      " 0   User-ID      1149780 non-null  int64 \n",
      " 1   ISBN         1149780 non-null  object\n",
      " 2   Book-Rating  1149780 non-null  int64 \n",
      "dtypes: int64(2), object(1)\n",
      "memory usage: 26.3+ MB\n"
     ]
    }
   ],
   "source": [
    "rating_df.info()"
   ]
  },
  {
   "cell_type": "markdown",
   "id": "99ab50f1-56bf-411a-be12-8da1d9e80d6b",
   "metadata": {},
   "source": [
    "3. check for duplication"
   ]
  },
  {
   "cell_type": "code",
   "execution_count": 109,
   "id": "ebdaedfe-a7f3-4cb8-aa32-45f38e5e0f7e",
   "metadata": {},
   "outputs": [
    {
     "data": {
      "text/html": [
       "<div>\n",
       "<style scoped>\n",
       "    .dataframe tbody tr th:only-of-type {\n",
       "        vertical-align: middle;\n",
       "    }\n",
       "\n",
       "    .dataframe tbody tr th {\n",
       "        vertical-align: top;\n",
       "    }\n",
       "\n",
       "    .dataframe thead th {\n",
       "        text-align: right;\n",
       "    }\n",
       "</style>\n",
       "<table border=\"1\" class=\"dataframe\">\n",
       "  <thead>\n",
       "    <tr style=\"text-align: right;\">\n",
       "      <th></th>\n",
       "      <th>User-ID</th>\n",
       "      <th>ISBN</th>\n",
       "      <th>Book-Rating</th>\n",
       "    </tr>\n",
       "  </thead>\n",
       "  <tbody>\n",
       "  </tbody>\n",
       "</table>\n",
       "</div>"
      ],
      "text/plain": [
       "Empty DataFrame\n",
       "Columns: [User-ID, ISBN, Book-Rating]\n",
       "Index: []"
      ]
     },
     "execution_count": 109,
     "metadata": {},
     "output_type": "execute_result"
    }
   ],
   "source": [
    "rating_df[rating_df.duplicated()]"
   ]
  },
  {
   "cell_type": "markdown",
   "id": "cc4732d3-b753-40f6-b23e-2799bcd00e3e",
   "metadata": {},
   "source": [
    "4 ) Outliers"
   ]
  },
  {
   "cell_type": "code",
   "execution_count": 112,
   "id": "20dca1cb-f6f0-4bdc-8734-7dad479233d2",
   "metadata": {},
   "outputs": [
    {
     "name": "stderr",
     "output_type": "stream",
     "text": [
      "C:\\Users\\gattu\\anaconda3\\Lib\\site-packages\\seaborn\\_oldcore.py:1119: FutureWarning: use_inf_as_na option is deprecated and will be removed in a future version. Convert inf values to NaN before operating instead.\n",
      "  with pd.option_context('mode.use_inf_as_na', True):\n"
     ]
    },
    {
     "data": {
      "text/plain": [
       "<Axes: xlabel='Book-Rating', ylabel='Count'>"
      ]
     },
     "execution_count": 112,
     "metadata": {},
     "output_type": "execute_result"
    },
    {
     "data": {
      "image/png": "[encoded data removed]",
      "text/plain": [
       "<Figure size 640x480 with 1 Axes>"
      ]
     },
     "metadata": {},
     "output_type": "display_data"
    }
   ],
   "source": [
    "sns.histplot(rating_df['Book-Rating'])"
   ]
  },
  {
   "cell_type": "code",
   "execution_count": 114,
   "id": "163a6176-bbc9-4310-a007-3fb39822ba2a",
   "metadata": {},
   "outputs": [
    {
     "data": {
      "text/plain": [
       "Book-Rating\n",
       "0     716109\n",
       "8     103736\n",
       "10     78610\n",
       "7      76457\n",
       "9      67541\n",
       "5      50974\n",
       "6      36924\n",
       "4       8904\n",
       "3       5996\n",
       "2       2759\n",
       "1       1770\n",
       "Name: count, dtype: int64"
      ]
     },
     "execution_count": 114,
     "metadata": {},
     "output_type": "execute_result"
    }
   ],
   "source": [
    "rating_df['Book-Rating'].value_counts()"
   ]
  },
  {
   "cell_type": "code",
   "execution_count": 116,
   "id": "f1c0f579-3350-4e30-ae5f-5e1f239667e7",
   "metadata": {},
   "outputs": [
    {
     "data": {
      "text/plain": [
       "User-ID\n",
       "11676     13602\n",
       "198711     7550\n",
       "153662     6109\n",
       "98391      5891\n",
       "35859      5850\n",
       "          ...  \n",
       "80810       183\n",
       "196738      183\n",
       "54828       182\n",
       "33580       182\n",
       "80555       182\n",
       "Name: count, Length: 1000, dtype: int64"
      ]
     },
     "execution_count": 116,
     "metadata": {},
     "output_type": "execute_result"
    }
   ],
   "source": [
    "rating_df['User-ID'].value_counts().head(1000)"
   ]
  },
  {
   "cell_type": "code",
   "execution_count": 118,
   "id": "e064de4d-3faf-4a1a-905b-fcf69899b3b7",
   "metadata": {},
   "outputs": [
    {
     "data": {
      "text/plain": [
       "ISBN\n",
       "0971880107    2502\n",
       "0316666343    1295\n",
       "0385504209     883\n",
       "0060928336     732\n",
       "0312195516     723\n",
       "044023722X     647\n",
       "0679781587     639\n",
       "0142001740     615\n",
       "067976402X     614\n",
       "0671027360     586\n",
       "0446672211     585\n",
       "059035342X     571\n",
       "0316601950     568\n",
       "0375727345     552\n",
       "044021145X     529\n",
       "0452282152     526\n",
       "0440214041     523\n",
       "0804106304     519\n",
       "0440211727     517\n",
       "0345337662     506\n",
       "0060930535     494\n",
       "0440226430     482\n",
       "0312278586     474\n",
       "0743418174     470\n",
       "0671021001     468\n",
       "0345370775     466\n",
       "0446605239     465\n",
       "0156027321     462\n",
       "0440241073     456\n",
       "0671003755     446\n",
       "0060976845     434\n",
       "1400034779     431\n",
       "0786868716     427\n",
       "0440234743     422\n",
       "0440222656     420\n",
       "0440221471     419\n",
       "0345361792     412\n",
       "0440236673     408\n",
       "0345417623     407\n",
       "0316769487     403\n",
       "0385484518     391\n",
       "0446610038     391\n",
       "0446310786     389\n",
       "044022165X     386\n",
       "0375706771     380\n",
       "0440220602     379\n",
       "0440225701     379\n",
       "0060502258     376\n",
       "0446606812     369\n",
       "0345353145     368\n",
       "Name: count, dtype: int64"
      ]
     },
     "execution_count": 118,
     "metadata": {},
     "output_type": "execute_result"
    }
   ],
   "source": [
    "rating_df['ISBN'].value_counts().head(50)"
   ]
  },
  {
   "cell_type": "code",
   "execution_count": 120,
   "id": "e7304110-f490-4b86-87dc-55acb4092c27",
   "metadata": {},
   "outputs": [],
   "source": [
    "rating_df.to_csv(PROCESSED_Rating_OUTPUT, index=False)"
   ]
  },
  {
   "cell_type": "code",
   "execution_count": null,
   "id": "658d3630-ad02-45c7-a2dd-70fbf4d019a8",
   "metadata": {},
   "outputs": [],
   "source": []
  }
 ],
 "metadata": {
  "kernelspec": {
   "display_name": "Python 3 (ipykernel)",
   "language": "python",
   "name": "python3"
  },
  "language_info": {
   "codemirror_mode": {
    "name": "ipython",
    "version": 3
   },
   "file_extension": ".py",
   "mimetype": "text/x-python",
   "name": "python",
   "nbconvert_exporter": "python",
   "pygments_lexer": "ipython3",
   "version": "3.11.7"
  },
  "widgets": {
   "application/vnd.jupyter.widget-state+json": {
    "state": {},
    "version_major": 2,
    "version_minor": 0
   }
  }
 },
 "nbformat": 4,
 "nbformat_minor": 5
}
